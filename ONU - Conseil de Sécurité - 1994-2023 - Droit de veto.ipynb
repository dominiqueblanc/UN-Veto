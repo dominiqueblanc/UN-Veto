{
 "cells": [
  {
   "cell_type": "code",
   "execution_count": 1,
   "id": "d9a05715",
   "metadata": {},
   "outputs": [
    {
     "name": "stdout",
     "output_type": "stream",
     "text": [
      "Requirement already satisfied: beautifulsoup4 in c:\\users\\blanc\\anaconda3\\lib\\site-packages (4.12.2)\n",
      "Requirement already satisfied: soupsieve>1.2 in c:\\users\\blanc\\anaconda3\\lib\\site-packages (from beautifulsoup4) (2.5)\n",
      "Requirement already satisfied: requests in c:\\users\\blanc\\anaconda3\\lib\\site-packages (2.31.0)\n",
      "Requirement already satisfied: charset-normalizer<4,>=2 in c:\\users\\blanc\\anaconda3\\lib\\site-packages (from requests) (2.0.4)\n",
      "Requirement already satisfied: idna<4,>=2.5 in c:\\users\\blanc\\anaconda3\\lib\\site-packages (from requests) (3.4)\n",
      "Requirement already satisfied: urllib3<3,>=1.21.1 in c:\\users\\blanc\\anaconda3\\lib\\site-packages (from requests) (2.0.7)\n",
      "Requirement already satisfied: certifi>=2017.4.17 in c:\\users\\blanc\\anaconda3\\lib\\site-packages (from requests) (2024.7.4)\n"
     ]
    }
   ],
   "source": [
    "!pip3 install beautifulsoup4\n",
    "!pip3 install requests"
   ]
  },
  {
   "cell_type": "code",
   "execution_count": 2,
   "id": "1c2d6adb",
   "metadata": {},
   "outputs": [],
   "source": [
    "import sys\n",
    "\n",
    "import requests\n",
    "from bs4 import BeautifulSoup as bs\n",
    "import re\n",
    "import unicodedata\n",
    "import pandas as pd"
   ]
  },
  {
   "cell_type": "code",
   "execution_count": 3,
   "id": "25c3738d",
   "metadata": {},
   "outputs": [],
   "source": [
    "url = \"https://fr.wikipedia.org/wiki/Droit_de_veto_au_Conseil_de_s%C3%A9curit%C3%A9_des_Nations_unies#:~:text=La%20r%C3%A9forme%20du%20droit%20de,la%20paix%20de%20l'ONU\""
   ]
  },
  {
   "cell_type": "code",
   "execution_count": 4,
   "id": "2152b53e",
   "metadata": {},
   "outputs": [],
   "source": [
    "response = requests.get(url)"
   ]
  },
  {
   "cell_type": "code",
   "execution_count": 5,
   "id": "4b7d199e",
   "metadata": {},
   "outputs": [],
   "source": [
    "soup = bs(response.text)"
   ]
  },
  {
   "cell_type": "code",
   "execution_count": 6,
   "id": "4abfc87b",
   "metadata": {},
   "outputs": [
    {
     "name": "stdout",
     "output_type": "stream",
     "text": [
      "Droit de veto au Conseil de sécurité des Nations unies — Wikipédia\n"
     ]
    }
   ],
   "source": [
    "print(soup.title.get_text())"
   ]
  },
  {
   "cell_type": "code",
   "execution_count": 7,
   "id": "c8d36ad7",
   "metadata": {},
   "outputs": [],
   "source": [
    "data = soup.find_all('table')[0]"
   ]
  },
  {
   "cell_type": "code",
   "execution_count": 8,
   "id": "e9a52266",
   "metadata": {
    "scrolled": false
   },
   "outputs": [
    {
     "name": "stderr",
     "output_type": "stream",
     "text": [
      "C:\\Users\\blanc\\AppData\\Local\\Temp\\ipykernel_77868\\2803720966.py:1: FutureWarning: Passing literal html to 'read_html' is deprecated and will be removed in a future version. To read from a literal string, wrap it in a 'StringIO' object.\n",
      "  df = pd.read_html(str(data))[0]\n"
     ]
    }
   ],
   "source": [
    "df = pd.read_html(str(data))[0]"
   ]
  },
  {
   "cell_type": "code",
   "execution_count": 9,
   "id": "46dc48af",
   "metadata": {},
   "outputs": [],
   "source": [
    "from io import StringIO"
   ]
  },
  {
   "cell_type": "code",
   "execution_count": 10,
   "id": "c4472ad2",
   "metadata": {
    "scrolled": true
   },
   "outputs": [],
   "source": [
    "df = pd.read_html(StringIO(str(data)))[0]"
   ]
  },
  {
   "cell_type": "code",
   "execution_count": 11,
   "id": "c6b3db90",
   "metadata": {},
   "outputs": [
    {
     "data": {
      "text/html": [
       "<div>\n",
       "<style scoped>\n",
       "    .dataframe tbody tr th:only-of-type {\n",
       "        vertical-align: middle;\n",
       "    }\n",
       "\n",
       "    .dataframe tbody tr th {\n",
       "        vertical-align: top;\n",
       "    }\n",
       "\n",
       "    .dataframe thead th {\n",
       "        text-align: right;\n",
       "    }\n",
       "</style>\n",
       "<table border=\"1\" class=\"dataframe\">\n",
       "  <thead>\n",
       "    <tr style=\"text-align: right;\">\n",
       "      <th></th>\n",
       "      <th>Année</th>\n",
       "      <th>Date</th>\n",
       "      <th>Pays utilisant son veto</th>\n",
       "      <th>Vote (oui/veto/non ou abs)</th>\n",
       "      <th>Sujet</th>\n",
       "    </tr>\n",
       "  </thead>\n",
       "  <tbody>\n",
       "    <tr>\n",
       "      <th>0</th>\n",
       "      <td>2023</td>\n",
       "      <td>18 octobre</td>\n",
       "      <td>États-Unis</td>\n",
       "      <td>12-1-2</td>\n",
       "      <td>Projet de résolution concernant une \"pause hum...</td>\n",
       "    </tr>\n",
       "    <tr>\n",
       "      <th>1</th>\n",
       "      <td>2022</td>\n",
       "      <td>25 février</td>\n",
       "      <td>Russie</td>\n",
       "      <td>11-1-3</td>\n",
       "      <td>Projet de résolution condamnant l'invasion de ...</td>\n",
       "    </tr>\n",
       "    <tr>\n",
       "      <th>2</th>\n",
       "      <td>2020</td>\n",
       "      <td>31 août</td>\n",
       "      <td>États-Unis</td>\n",
       "      <td>14-1-0</td>\n",
       "      <td>Projet de résolution préconisant aux États Mem...</td>\n",
       "    </tr>\n",
       "    <tr>\n",
       "      <th>3</th>\n",
       "      <td>2020</td>\n",
       "      <td>10 juillet</td>\n",
       "      <td>Russie  Chine</td>\n",
       "      <td>13-2-0</td>\n",
       "      <td>Projet de résolution sur la situation au Moyen...</td>\n",
       "    </tr>\n",
       "    <tr>\n",
       "      <th>4</th>\n",
       "      <td>2020</td>\n",
       "      <td>7 juillet</td>\n",
       "      <td>Russie  Chine</td>\n",
       "      <td>13-2-0</td>\n",
       "      <td>Projet de résolution sur la situation au Moyen...</td>\n",
       "    </tr>\n",
       "  </tbody>\n",
       "</table>\n",
       "</div>"
      ],
      "text/plain": [
       "   Année        Date Pays utilisant son veto Vote (oui/veto/non ou abs)  \\\n",
       "0   2023  18 octobre              États-Unis                     12-1-2   \n",
       "1   2022  25 février                  Russie                     11-1-3   \n",
       "2   2020     31 août              États-Unis                     14-1-0   \n",
       "3   2020  10 juillet           Russie  Chine                     13-2-0   \n",
       "4   2020   7 juillet           Russie  Chine                     13-2-0   \n",
       "\n",
       "                                               Sujet  \n",
       "0  Projet de résolution concernant une \"pause hum...  \n",
       "1  Projet de résolution condamnant l'invasion de ...  \n",
       "2  Projet de résolution préconisant aux États Mem...  \n",
       "3  Projet de résolution sur la situation au Moyen...  \n",
       "4  Projet de résolution sur la situation au Moyen...  "
      ]
     },
     "execution_count": 11,
     "metadata": {},
     "output_type": "execute_result"
    }
   ],
   "source": [
    "df.head()"
   ]
  },
  {
   "cell_type": "code",
   "execution_count": 12,
   "id": "72a6187a",
   "metadata": {
    "scrolled": false
   },
   "outputs": [
    {
     "data": {
      "text/plain": [
       "Année                          int64\n",
       "Date                          object\n",
       "Pays utilisant son veto       object\n",
       "Vote (oui/veto/non ou abs)    object\n",
       "Sujet                         object\n",
       "dtype: object"
      ]
     },
     "execution_count": 12,
     "metadata": {},
     "output_type": "execute_result"
    }
   ],
   "source": [
    "df.dtypes"
   ]
  },
  {
   "cell_type": "code",
   "execution_count": 13,
   "id": "7a6975da",
   "metadata": {},
   "outputs": [],
   "source": [
    "df['Nombre de vetos'] = df['Pays utilisant son veto'].count()"
   ]
  },
  {
   "cell_type": "code",
   "execution_count": 14,
   "id": "ef51a419",
   "metadata": {
    "scrolled": true
   },
   "outputs": [
    {
     "data": {
      "text/html": [
       "<div>\n",
       "<style scoped>\n",
       "    .dataframe tbody tr th:only-of-type {\n",
       "        vertical-align: middle;\n",
       "    }\n",
       "\n",
       "    .dataframe tbody tr th {\n",
       "        vertical-align: top;\n",
       "    }\n",
       "\n",
       "    .dataframe thead th {\n",
       "        text-align: right;\n",
       "    }\n",
       "</style>\n",
       "<table border=\"1\" class=\"dataframe\">\n",
       "  <thead>\n",
       "    <tr style=\"text-align: right;\">\n",
       "      <th></th>\n",
       "      <th>Nombre de vetos</th>\n",
       "    </tr>\n",
       "    <tr>\n",
       "      <th>Pays utilisant son veto</th>\n",
       "      <th></th>\n",
       "    </tr>\n",
       "  </thead>\n",
       "  <tbody>\n",
       "    <tr>\n",
       "      <th>Chine</th>\n",
       "      <td>2</td>\n",
       "    </tr>\n",
       "    <tr>\n",
       "      <th>Chine  Russie</th>\n",
       "      <td>5</td>\n",
       "    </tr>\n",
       "    <tr>\n",
       "      <th>Russie</th>\n",
       "      <td>10</td>\n",
       "    </tr>\n",
       "    <tr>\n",
       "      <th>Russie  Chine</th>\n",
       "      <td>6</td>\n",
       "    </tr>\n",
       "    <tr>\n",
       "      <th>États-Unis</th>\n",
       "      <td>17</td>\n",
       "    </tr>\n",
       "  </tbody>\n",
       "</table>\n",
       "</div>"
      ],
      "text/plain": [
       "                         Nombre de vetos\n",
       "Pays utilisant son veto                 \n",
       "Chine                                  2\n",
       "Chine  Russie                          5\n",
       "Russie                                10\n",
       "Russie  Chine                          6\n",
       "États-Unis                            17"
      ]
     },
     "execution_count": 14,
     "metadata": {},
     "output_type": "execute_result"
    }
   ],
   "source": [
    "df[['Pays utilisant son veto','Nombre de vetos']].groupby(['Pays utilisant son veto']).count()"
   ]
  },
  {
   "cell_type": "code",
   "execution_count": null,
   "id": "497410d7",
   "metadata": {},
   "outputs": [],
   "source": []
  }
 ],
 "metadata": {
  "kernelspec": {
   "display_name": "Python 3 (ipykernel)",
   "language": "python",
   "name": "python3"
  },
  "language_info": {
   "codemirror_mode": {
    "name": "ipython",
    "version": 3
   },
   "file_extension": ".py",
   "mimetype": "text/x-python",
   "name": "python",
   "nbconvert_exporter": "python",
   "pygments_lexer": "ipython3",
   "version": "3.11.7"
  }
 },
 "nbformat": 4,
 "nbformat_minor": 5
}
